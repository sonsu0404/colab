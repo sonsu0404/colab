{
  "nbformat": 4,
  "nbformat_minor": 0,
  "metadata": {
    "colab": {
      "name": "lession4장.ipynb",
      "provenance": [],
      "collapsed_sections": [],
      "authorship_tag": "ABX9TyMlq7pMReiEj9JFWlKBFYOg",
      "include_colab_link": true
    },
    "kernelspec": {
      "name": "python3",
      "display_name": "Python 3"
    },
    "language_info": {
      "name": "python"
    }
  },
  "cells": [
    {
      "cell_type": "markdown",
      "metadata": {
        "id": "view-in-github",
        "colab_type": "text"
      },
      "source": [
        "<a href=\"https://colab.research.google.com/github/sonsu0404/colab/blob/main/lession4%EC%9E%A5.ipynb\" target=\"_parent\"><img src=\"https://colab.research.google.com/assets/colab-badge.svg\" alt=\"Open In Colab\"/></a>"
      ]
    },
    {
      "cell_type": "markdown",
      "source": [
        "데이터 타입"
      ],
      "metadata": {
        "id": "BMyStZbeb45v"
      }
    },
    {
      "cell_type": "code",
      "execution_count": 4,
      "metadata": {
        "id": "O8Vnm-JKbZo3",
        "colab": {
          "base_uri": "https://localhost:8080/"
        },
        "outputId": "28228320-6f18-435f-c9ec-ab87ab9b857f"
      },
      "outputs": [
        {
          "output_type": "stream",
          "name": "stdout",
          "text": [
            "var1 변수의 데이터 타입은  <class 'int'>\n",
            "var2 변수의 데이터 타입은  <class 'float'>\n",
            "var3 변수의 데이터 타입은  <class 'str'>\n",
            "var4 변수의 데이터 타입은  <class 'bool'>\n"
          ]
        }
      ],
      "source": [
        "var1, var2, var3, var4 = 100, 3.14, \"안산공고\", True\n",
        "print(\"var1 변수의 데이터 타입은 \", type(var1))\n",
        "print(\"var2 변수의 데이터 타입은 \", type(var2))\n",
        "print(\"var3 변수의 데이터 타입은 \", type(var3))\n",
        "print(\"var4 변수의 데이터 타입은 \", type(var4))"
      ]
    },
    {
      "cell_type": "markdown",
      "source": [
        "**이스테이프 활용**\n"
      ],
      "metadata": {
        "id": "q2TLBQaGdrKP"
      }
    },
    {
      "cell_type": "code",
      "source": [
        "print(\"\\n줄바꿈\\n연습 \")\n",
        "print(\"\\t탭기\\연습\")\n",
        "print(\"어떤 글자를 \\\"강조\\\"하는 효과1\")\n",
        "print(\"어떤 글자를 \\'강조\\'하는 효과2\")\n",
        "print(\"\\\\\\\\ 백슬래시 2개 출력\")"
      ],
      "metadata": {
        "colab": {
          "base_uri": "https://localhost:8080/"
        },
        "id": "KRvkcsBDdp25",
        "outputId": "438c2fc2-482b-4532-d7c2-6ed92d74f40a"
      },
      "execution_count": 5,
      "outputs": [
        {
          "output_type": "stream",
          "name": "stdout",
          "text": [
            "\n",
            "줄바꿈\n",
            "연습 \n",
            "\t탭기\\연습\n",
            "어떤 글자를 \"강조\"하는 효과1\n",
            "어떤 글자를 '강조'하는 효과2\n",
            "\\\\ 백슬래시 2개 출력\n"
          ]
        }
      ]
    },
    {
      "cell_type": "markdown",
      "source": [
        "**형성평가 : 두 문자열을 입력받고 두 문자열의 길이 차이**"
      ],
      "metadata": {
        "id": "lQaBSbDAlzSv"
      }
    },
    {
      "cell_type": "code",
      "source": [
        "var1 = input(\"첫 번째 문자열 ==> \")\n",
        "var2 = input(\"두 번째 문자열 ==> \")\n",
        "\n",
        "len1 = len(var1)\n",
        "len2 = len(var2)\n",
        "\n",
        "diff = len1 - len2\n",
        "\n",
        "print(\"두 물자열의 길이 차이는\", diff, \"입니다.\")"
      ],
      "metadata": {
        "colab": {
          "base_uri": "https://localhost:8080/"
        },
        "id": "6RIcF2b7keBR",
        "outputId": "344bb07d-17ea-448c-994a-5bfd7682aaec"
      },
      "execution_count": 7,
      "outputs": [
        {
          "output_type": "stream",
          "name": "stdout",
          "text": [
            "첫 번째 문자열 ==> 난생처음 파이썬\n",
            "두 번째 문자열 ==> First  Python\n",
            "두 물자열의 길이 차이는 -5 입니다.\n"
          ]
        }
      ]
    },
    {
      "cell_type": "markdown",
      "source": [
        "문자열 함수 예제 len(), upper(), lower(), count(), isupper(), islower()"
      ],
      "metadata": {
        "id": "ly5sctkzocxx"
      }
    },
    {
      "cell_type": "code",
      "source": [
        "str1 = input(\"문자열 입력 : \")\n",
        "print(\"입력된 문자열의 길이 : \", len(str1))\n",
        "print(\"입력된 문자열을 대문자로 변환 : \", str1.upper())\n",
        "print(\"입력된 문자열을 소문자로 변환 : \", str1. lower())\n",
        "print(\"입력된 문자열 중 ansan 몇번 나오는지 : \", str1.count(\"ansan\"))\n",
        "print(\"입력된 문자열은 대문자인가요? \", str1.isupper())\n",
        "print(\"입력된 문자열은 소문자인가요? \", str1.islower())"
      ],
      "metadata": {
        "colab": {
          "base_uri": "https://localhost:8080/"
        },
        "id": "925tTiHpoucB",
        "outputId": "effb8884-fc28-4919-f6fd-cceecd85328a"
      },
      "execution_count": 8,
      "outputs": [
        {
          "output_type": "stream",
          "name": "stdout",
          "text": [
            "문자열 입력 : Ansan Technical High School, Ansan-Si, Ansan Iake\n",
            "입력된 문자열의 길이 :  49\n",
            "입력된 문자열을 대문자로 변환 :  ANSAN TECHNICAL HIGH SCHOOL, ANSAN-SI, ANSAN IAKE\n",
            "입력된 문자열을 소문자로 변환 :  ansan technical high school, ansan-si, ansan iake\n",
            "입력된 문자열 중 ansan 몇번 나오는지 :  0\n",
            "입력된 문자열은 대문자인가요?  False\n",
            "입력된 문자열은 소문자인가요?  False\n"
          ]
        }
      ]
    },
    {
      "cell_type": "markdown",
      "source": [
        "렛잇비 가사 몇게 나올까?"
      ],
      "metadata": {
        "id": "IVFjMDxjrSG3"
      }
    },
    {
      "cell_type": "code",
      "source": [
        "lyrics = ***\n",
        "When I find myself in times of trouble\n",
        "Mother Mary comes to me\n",
        "Speaking words of wisdom let it be\n",
        "And in my hour of darkness\n",
        "She is standing right in front of me\n",
        "Speaking words of wisdom let it be\n",
        "\n",
        "Let it be let it be\n",
        "Let it be let it be\n",
        "Whisper words of wisdom let it be\n",
        "\n",
        "And when the broken-hearted people\n",
        "Living in the world agree\n",
        "There will be an answer let it be\n",
        "For though they may be parted\n",
        "There is still a chance that they will see\n",
        "There will be an answer let it be\n",
        "\n",
        "Let it be let it be\n",
        "Let it be let it be\n",
        "Yeah there will be an answer let it be\n",
        "Let it be let it be\n",
        "Let it be let it be\n",
        "Whisper words of wisdom let it be\n",
        "\n",
        "Let it be let it be\n",
        "Ah let it be yeah let it be\n",
        "Whisper words of wisdom let it be\n",
        "\n",
        "And when the night is cloudy\n",
        "There is still a light that shines on me\n",
        "Shine on until tomorrow let it be\n",
        "I wake up to the sound of music\n",
        "Mother Mary comes to me\n",
        "Speaking words of wisdom let it be\n",
        "\n",
        "Let it be let it be\n",
        "Let it be yeah let it be\n",
        "Oh there will be an answer let it be\n",
        "Let it be let it be\n",
        "Let it be yeah let it be\n",
        "Whisper words of wisdom let it be\n",
        " ***\n",
        "\n",
        "\n",
        "count = "
      ],
      "metadata": {
        "id": "_GzcEObpvv1o"
      },
      "execution_count": null,
      "outputs": []
    },
    {
      "cell_type": "markdown",
      "source": [
        "**리스트 예제**"
      ],
      "metadata": {
        "id": "Zc1TYAqjyetr"
      }
    },
    {
      "cell_type": "code",
      "source": [
        "myList = [10, 20, 30, \"안산\", \"공고\", \"배트맨\"]\n",
        "#print(myList)\n",
        "print(myList[3])\n",
        "print(myList[2:4])"
      ],
      "metadata": {
        "colab": {
          "base_uri": "https://localhost:8080/"
        },
        "id": "O3J6XFk9yiKY",
        "outputId": "fdc1b2da-e44b-4219-de07-937c7b63a8d6"
      },
      "execution_count": 11,
      "outputs": [
        {
          "output_type": "stream",
          "name": "stdout",
          "text": [
            "안산\n",
            "[30, '안산']\n"
          ]
        }
      ]
    },
    {
      "cell_type": "code",
      "source": [
        "str1 = \"안산공고 컴퓨터과 파이썬 수업\"\n",
        "print(str1[0])\n",
        "print(str1[0:4])\n",
        "print(str1[10:14])\n",
        "print(str1[:14])\n",
        "print(str1[0:])\n",
        "print(str1[-1])"
      ],
      "metadata": {
        "colab": {
          "base_uri": "https://localhost:8080/"
        },
        "id": "tsyg42qKzMvJ",
        "outputId": "2c10d290-ac95-4664-df57-27f40b1cfc4b"
      },
      "execution_count": 21,
      "outputs": [
        {
          "output_type": "stream",
          "name": "stdout",
          "text": [
            "안\n",
            "안산공고\n",
            "파이썬 \n",
            "안산공고 컴퓨터과 파이썬 \n",
            "안산공고 컴퓨터과 파이썬 수업\n",
            "업\n"
          ]
        }
      ]
    },
    {
      "cell_type": "markdown",
      "source": [
        "**형성평가**: 문자열을 꺼꾸로 출력하는 프로그램"
      ],
      "metadata": {
        "id": "LjvkG2DM0bRv"
      }
    },
    {
      "cell_type": "code",
      "source": [
        "singer = input(\"가수 이름을 입력 : \")\n",
        "singer_length =len(singer)\n",
        "#print(singer_length)\n",
        "r_singer= \"\"\n",
        "while singer_length > 0 :\n",
        "  r_singer = r_singer + singer[singer_length-1]\n",
        "  singer_length = singer_length -1\n",
        "print(r_singer)"
      ],
      "metadata": {
        "colab": {
          "base_uri": "https://localhost:8080/"
        },
        "id": "-VYYjDkX0YTZ",
        "outputId": "9894b90a-c6fd-44f8-a9fb-cc7145a95d1c"
      },
      "execution_count": 26,
      "outputs": [
        {
          "output_type": "stream",
          "name": "stdout",
          "text": [
            "가수 이름을 입력 : 트와이스\n",
            "스이와트\n"
          ]
        }
      ]
    },
    {
      "cell_type": "code",
      "source": [],
      "metadata": {
        "id": "BzMgnJ3B4f5Q"
      },
      "execution_count": null,
      "outputs": []
    }
  ]
}