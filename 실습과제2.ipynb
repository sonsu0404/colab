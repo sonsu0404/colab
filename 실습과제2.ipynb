{
  "nbformat": 4,
  "nbformat_minor": 0,
  "metadata": {
    "colab": {
      "provenance": [],
      "authorship_tag": "ABX9TyPP6WR9J/6wpWgyZ8Vjl+pb",
      "include_colab_link": true
    },
    "kernelspec": {
      "name": "python3",
      "display_name": "Python 3"
    },
    "language_info": {
      "name": "python"
    }
  },
  "cells": [
    {
      "cell_type": "markdown",
      "metadata": {
        "id": "view-in-github",
        "colab_type": "text"
      },
      "source": [
        "<a href=\"https://colab.research.google.com/github/sonsu0404/colab/blob/main/%EC%8B%A4%EC%8A%B5%EA%B3%BC%EC%A0%9C2.ipynb\" target=\"_parent\"><img src=\"https://colab.research.google.com/assets/colab-badge.svg\" alt=\"Open In Colab\"/></a>"
      ]
    },
    {
      "cell_type": "code",
      "execution_count": null,
      "metadata": {
        "id": "5abLu5AmWS8D"
      },
      "outputs": [],
      "source": [
        "num = int(input(\"정수를 입력 : \"))\n",
        "if (num % 2) == 0 :\n",
        "  print(num, \"짝수입니다.\")\n",
        "else :\n",
        "  print(num, \"홀수입니다.\")"
      ]
    },
    {
      "cell_type": "code",
      "source": [
        "import random\n",
        "print(\"** 가위 바위 보 게임 **\")\n",
        "count = 7\n",
        "while count > 0 :\n",
        "  com_player = random.choice([\"가위\", \"바위\", \"보\"])\n",
        "  user_player = input(\"가위/바위/보 중 하나를 입력하세요 ==> \")\n",
        "  if (com_player == user_player) :\n",
        "    print(\"비겼다.\")\n",
        "  elif ((com_player == \"가위\") and (user_player == \"바위\")) or \n",
        "    ((com_player == \"바위\") and (user_player == \"보\")) or \n",
        "    ((com_player == \"보\") and (user_player == \"가위\")) :\n",
        "    print(\"이겼다.\")\n",
        "  else :\n",
        "    print(\"졌다.\")\n",
        "  count = count - 1"
      ],
      "metadata": {
        "id": "1qHEfWNJXDR3"
      },
      "execution_count": null,
      "outputs": []
    }
  ]
}