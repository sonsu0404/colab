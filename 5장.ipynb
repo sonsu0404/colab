{
  "nbformat": 4,
  "nbformat_minor": 0,
  "metadata": {
    "colab": {
      "provenance": [],
      "authorship_tag": "ABX9TyPFiBAzMO2KvBKHl/QXirKO",
      "include_colab_link": true
    },
    "kernelspec": {
      "name": "python3",
      "display_name": "Python 3"
    },
    "language_info": {
      "name": "python"
    }
  },
  "cells": [
    {
      "cell_type": "markdown",
      "metadata": {
        "id": "view-in-github",
        "colab_type": "text"
      },
      "source": [
        "<a href=\"https://colab.research.google.com/github/sonsu0404/colab/blob/main/5%EC%9E%A5.ipynb\" target=\"_parent\"><img src=\"https://colab.research.google.com/assets/colab-badge.svg\" alt=\"Open In Colab\"/></a>"
      ]
    },
    {
      "cell_type": "markdown",
      "source": [
        "조건문 if문"
      ],
      "metadata": {
        "id": "JgYd9goj2mwa"
      }
    },
    {
      "cell_type": "code",
      "execution_count": null,
      "metadata": {
        "id": "evpr03dWzcce"
      },
      "outputs": [],
      "source": [
        "num = 200\n",
        "if num > 100 :\n",
        "  print(\"100보다\")\n",
        "  print(\"큽니다.\")\n",
        "  print(\"프로그램 끝\")"
      ]
    },
    {
      "cell_type": "code",
      "source": [
        "num = 10\n",
        "if num < 100 :\n",
        "  print(\"100보다 작군요.\")\n",
        "else :\n",
        "  print(\"100보다 큰군요.\")"
      ],
      "metadata": {
        "colab": {
          "base_uri": "https://localhost:8080/"
        },
        "id": "r_LPFwhW3qCh",
        "outputId": "f693e072-56cd-478a-d057-46e03fdc4351"
      },
      "execution_count": null,
      "outputs": [
        {
          "output_type": "stream",
          "name": "stdout",
          "text": [
            "100보다 작군요.\n"
          ]
        }
      ]
    },
    {
      "cell_type": "code",
      "source": [
        "num = int(input(\"정수를 입력 : \"))\n",
        "if (num % 2) == 0 :\n",
        "  print(num, \"짝수입니다.\")\n",
        "else :\n",
        "  print(num, \"홀수입나다.\")"
      ],
      "metadata": {
        "colab": {
          "base_uri": "https://localhost:8080/"
        },
        "id": "UzutXGza5G5v",
        "outputId": "382d943b-1b99-450e-d47a-7746bd3156dc"
      },
      "execution_count": null,
      "outputs": [
        {
          "output_type": "stream",
          "name": "stdout",
          "text": [
            "정수를 입력 : 159\n",
            "159 홀수입나다.\n"
          ]
        }
      ]
    },
    {
      "cell_type": "code",
      "source": [
        "num = int(input(\"숫자를 입력하세요 ==> \"))\n",
        "\n",
        "if num > 100 :\n",
        "  if num < 1000 :\n",
        "    print(\"100보다 크고 1000보다 작군요.\")\n",
        "else :\n",
        "      print(\"와~ 1000보다 크군요.\")\n",
        "else :\n",
        "      print(\"음~ 100보다 작군요.\")"
      ],
      "metadata": {
        "id": "H2EVGBHS7T2_"
      },
      "execution_count": null,
      "outputs": []
    },
    {
      "cell_type": "code",
      "source": [
        "score = int(input(\"점수를 입력 ==> \"))\n",
        "\n",
        "if score >= 90 :\n",
        "  print(\"A\", end='')\n",
        "elif score >= 80 :\n",
        "  print(\"B\", end='')\n",
        "elif  score >= 70 :\n",
        "  print(\"C\", end='')\n",
        "elif score >=60 :\n",
        "  print(\"D\", end='')\n",
        "else : \n",
        "  print(\"F\", end='')\n",
        "  print(\"학점입니다.\")"
      ],
      "metadata": {
        "colab": {
          "base_uri": "https://localhost:8080/"
        },
        "id": "9k0wP1i6C5qX",
        "outputId": "b9efe520-8b4c-4624-e56f-5845cddf14c3"
      },
      "execution_count": null,
      "outputs": [
        {
          "output_type": "stream",
          "name": "stdout",
          "text": [
            "점수를 입력 ==> 80\n",
            "B"
          ]
        }
      ]
    },
    {
      "cell_type": "code",
      "source": [
        "score = int(input(\"점수를 입력 ==> \"))\n",
        "\n",
        "if score >= 90 :\n",
        "  print(\"A\", end='')\n",
        "else :\n",
        "  if score >= 80 :\n",
        "    print(\"B\", end='')\n",
        "  else :\n",
        "    if score >= 70 :\n",
        "      print(\"C\", end='')\n",
        "    else :\n",
        "      if score >=60 :\n",
        "        print(\"D\", end='')\n",
        "      else :\n",
        "        print(\"F\", end='')\n",
        "print(\"학점입니다.\")"
      ],
      "metadata": {
        "id": "C6VC_zyD-_kA"
      },
      "execution_count": null,
      "outputs": []
    },
    {
      "cell_type": "code",
      "source": [
        "import random\n",
        "\n",
        "rnd = random.randint(1,45)\n",
        "lunch = random.choice([\"짜장면\", \"라면\", \"김밥\", \"짬뽕\"])\n",
        "print(rnd, lunch)"
      ],
      "metadata": {
        "colab": {
          "base_uri": "https://localhost:8080/"
        },
        "id": "hvDw8lhtFKO2",
        "outputId": "32c59684-fb83-4c51-8578-d54d77ba1de5"
      },
      "execution_count": null,
      "outputs": [
        {
          "output_type": "stream",
          "name": "stdout",
          "text": [
            "9 짜장면\n"
          ]
        }
      ]
    },
    {
      "cell_type": "markdown",
      "source": [
        "가위 바위 보 게임"
      ],
      "metadata": {
        "id": "IKxUvMYrGmCl"
      }
    },
    {
      "cell_type": "code",
      "source": [
        "import random\n",
        "\n",
        "com_player = random.choice([\"가위\", \"바위\", \"보\"])\n",
        "print(\" ** [가위/바위/보] 게임 **\")\n",
        "\n",
        "user = input(\"가위/바위/보 중 하나를 입력 :\")\n",
        "\n",
        "if com_player == user :\n",
        "  print(\"비겼다. ?-?\")\n",
        "elif\n",
        "\n",
        "else :\n",
        "  pirnt(\"졌다. ㅠㅇㅠ\")\n",
        "\n"
      ],
      "metadata": {
        "colab": {
          "base_uri": "https://localhost:8080/",
          "height": 131
        },
        "id": "kZn_unkpGlZm",
        "outputId": "9b3f6a32-8039-4629-9564-66a971495e27"
      },
      "execution_count": null,
      "outputs": [
        {
          "output_type": "error",
          "ename": "SyntaxError",
          "evalue": "ignored",
          "traceback": [
            "\u001b[0;36m  File \u001b[0;32m\"<ipython-input-29-8768c811ce7a>\"\u001b[0;36m, line \u001b[0;32m10\u001b[0m\n\u001b[0;31m    elif\u001b[0m\n\u001b[0m        ^\u001b[0m\n\u001b[0;31mSyntaxError\u001b[0m\u001b[0;31m:\u001b[0m invalid syntax\n"
          ]
        }
      ]
    },
    {
      "cell_type": "code",
      "source": [
        "from re import L\n",
        "#pip3 install ColabTurtle\n",
        "import ColabTurtle.Turtle as turtle\n",
        "import random\n",
        "turtle.initialzeTurtle()\n",
        "print(turtle.DEFAUL_T_WINDOW_SIZE)\n",
        "\n",
        "while True :\n",
        "  turtle.left(random.rand(0.360))\n",
        "  turtle.forwerd(random,randint(100,200))\n",
        "  "
      ],
      "metadata": {
        "id": "AOFjlzR8l37A"
      },
      "execution_count": null,
      "outputs": []
    }
  ]
}