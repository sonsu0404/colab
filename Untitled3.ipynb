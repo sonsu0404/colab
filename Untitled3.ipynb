{
  "nbformat": 4,
  "nbformat_minor": 0,
  "metadata": {
    "colab": {
      "name": "Untitled3.ipynb",
      "provenance": [],
      "authorship_tag": "ABX9TyMvpzkZFuD/AKC+ovrNeXgt",
      "include_colab_link": true
    },
    "kernelspec": {
      "name": "python3",
      "display_name": "Python 3"
    },
    "language_info": {
      "name": "python"
    }
  },
  "cells": [
    {
      "cell_type": "markdown",
      "metadata": {
        "id": "view-in-github",
        "colab_type": "text"
      },
      "source": [
        "<a href=\"https://colab.research.google.com/github/sonsu0404/colab/blob/main/Untitled3.ipynb\" target=\"_parent\"><img src=\"https://colab.research.google.com/assets/colab-badge.svg\" alt=\"Open In Colab\"/></a>"
      ]
    },
    {
      "cell_type": "markdown",
      "source": [
        "대문자를 소문자로 소문자를 대문자로 변경하는 프로그램"
      ],
      "metadata": {
        "id": "hIr0Qb7XSp9P"
      }
    },
    {
      "cell_type": "code",
      "execution_count": null,
      "metadata": {
        "id": "Vx4B50iiSpaw"
      },
      "outputs": [],
      "source": [
        "text = \"Python\"\n",
        "change_text = text[0], lower() + text[1], upper() + text[2],upper() + text[3], upper() + \\\n",
        "text[4],upper() + text[5],upper()\n",
        "print(\"원본 문자열은 ==>\", text)\n",
        "print(\"변환 문자열은 ==>\", change_text)"
      ]
    },
    {
      "cell_type": "markdown",
      "source": [
        "복합 문자열 바꾸기"
      ],
      "metadata": {
        "id": "0PdDIT2qVnd9"
      }
    },
    {
      "cell_type": "code",
      "source": [
        "ss = \"Python\"\n",
        "print(\"원본 문자열 ==>\", ss)\n",
        "\n",
        "ss2 = \"\"\n",
        "\n",
        "ss2 += ss[0],lower()\n",
        "ss2 += ss[1],upper()\n",
        "ss2 += ss[2],upper()\n",
        "ss2 += ss[3],upper()\n",
        "ss2 += ss[4],upper()\n",
        "ss2 += ss[5],upper()\n",
        "\n",
        "print(\"변환 문자열 ==>\", end='')\n",
        "print(ss2)"
      ],
      "metadata": {
        "id": "WysstUZLVjAl"
      },
      "execution_count": null,
      "outputs": []
    },
    {
      "cell_type": "markdown",
      "source": [
        "거북이의 모험"
      ],
      "metadata": {
        "id": "2UZI0lkhXr3F"
      }
    },
    {
      "cell_type": "code",
      "source": [
        "#!pip3 install ColabTurtie\n",
        "import ColabTurtle.Turtle as turtle\n",
        "\n",
        "turtle,inif"
      ],
      "metadata": {
        "id": "oHbjvbxfXqa0"
      },
      "execution_count": null,
      "outputs": []
    }
  ]
}