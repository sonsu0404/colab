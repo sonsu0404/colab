{
  "nbformat": 4,
  "nbformat_minor": 0,
  "metadata": {
    "colab": {
      "provenance": [],
      "authorship_tag": "ABX9TyOaPQzcu9u8iOS3QjGZn3OG",
      "include_colab_link": true
    },
    "kernelspec": {
      "name": "python3",
      "display_name": "Python 3"
    },
    "language_info": {
      "name": "python"
    }
  },
  "cells": [
    {
      "cell_type": "markdown",
      "metadata": {
        "id": "view-in-github",
        "colab_type": "text"
      },
      "source": [
        "<a href=\"https://colab.research.google.com/github/sonsu0404/colab/blob/main/Lession7.ipynb\" target=\"_parent\"><img src=\"https://colab.research.google.com/assets/colab-badge.svg\" alt=\"Open In Colab\"/></a>"
      ]
    },
    {
      "cell_type": "code",
      "execution_count": 5,
      "metadata": {
        "id": "Yzg5rf5aRQNz",
        "colab": {
          "base_uri": "https://localhost:8080/"
        },
        "outputId": "e1596192-9723-4347-beff-f2d3f7e40ff5"
      },
      "outputs": [
        {
          "output_type": "stream",
          "name": "stdout",
          "text": [
            "숫자 :1\n",
            "숫자 :1\n",
            "숫자 :1\n",
            "숫자 :10\n",
            "합계 ==>  13\n"
          ]
        }
      ],
      "source": [
        "numList = []\n",
        "for i in range(0, 4) :\n",
        "    numList.append(0)\n",
        "hap = 0\n",
        "\n",
        "for i in range(0, 4) :\n",
        "    numList[i] = int(input(\"숫자 :\"))\n",
        "hap = numList[0] + numList[1] + numList[2] + numList[3]\n",
        "\n",
        "print(\"합계 ==> \", hap)"
      ]
    },
    {
      "cell_type": "code",
      "source": [
        "score = [0,0,0,0,0]\n",
        "sum, avg = 0,0\n",
        "print(\"김안공 선수 경기가 끝났습니다. 박수 짝짝짝\")\n",
        "\n",
        "for i in range(0,5) :\n",
        "  score[i] = int(input(\"평가 점수 ==> \"))\n",
        "  sum = sum + score[i]\n",
        "avg = sum / 5\n",
        "print(\"심사위원의 평균 점수 ==> \", avg)"
      ],
      "metadata": {
        "colab": {
          "base_uri": "https://localhost:8080/"
        },
        "id": "29TtX9wNVA8Z",
        "outputId": "cfd68021-ca02-4a23-add5-ed2df7da1634"
      },
      "execution_count": 10,
      "outputs": [
        {
          "output_type": "stream",
          "name": "stdout",
          "text": [
            "김안공 선수 경기가 끝났습니다. 박수 짝짝짝\n",
            "평가 점수 ==> 50\n",
            "평가 점수 ==> 40\n",
            "평가 점수 ==> 30\n",
            "평가 점수 ==> 20\n",
            "평가 점수 ==> 10\n",
            "심사위원의 평균 점수 ==>  30.0\n"
          ]
        }
      ]
    },
    {
      "cell_type": "code",
      "source": [
        "import random\n",
        "score = []\n",
        "for i in range(0, 10000):\n",
        "  rock_paper_scissors = [\"가위\", \"바위\", \"보\"]\n",
        "  comA = random.choice(rock_paper_scissors)\n",
        "  comB = random.choice(rock_paper_scissors)\n",
        "  if comA == comB :\n",
        "    score.append(\"비김\")\n",
        "  elif (comA == \"가위\" and comB == \"보\") or \\\n",
        "       (comA == \"바위\" and comB == \"가위\") or \\\n",
        "       (comA == \"보\" and comB == \"바위\") :\n",
        "       score.append(\"comA\")\n",
        "else :\n",
        "  score.append(\"comB\")\n",
        "print(\"10000번 중 컴퓨터 A의 승리 : \", score.count(\"comA\"))\n",
        "print(\"10000번 중 컴퓨터 B의 승리 : \", score.count(\"comB\"))\n",
        "print(\"10000번 중 비긴 경기 : \", score.count(\"비김\"))"
      ],
      "metadata": {
        "id": "QZtXa23iU-dB"
      },
      "execution_count": null,
      "outputs": []
    },
    {
      "cell_type": "code",
      "source": [
        "singer = {}\n",
        "singer [\"이름\"] = input(\"이름 ==>\")\n",
        "\n",
        "print(singer)"
      ],
      "metadata": {
        "colab": {
          "base_uri": "https://localhost:8080/"
        },
        "id": "cW2bvc1PodhJ",
        "outputId": "35e96568-52e1-48bf-afc2-d3c96bc8c9fc"
      },
      "execution_count": 11,
      "outputs": [
        {
          "output_type": "stream",
          "name": "stdout",
          "text": [
            "이름 ==>트와이스\n",
            "{'이름': '트와이스'}\n"
          ]
        }
      ]
    }
  ]
}