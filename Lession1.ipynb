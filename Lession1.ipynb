{
  "nbformat": 4,
  "nbformat_minor": 0,
  "metadata": {
    "colab": {
      "name": "Lession1.ipynb",
      "provenance": [],
      "authorship_tag": "ABX9TyMpPanAMS+7Db41vmrHfyeF",
      "include_colab_link": true
    },
    "kernelspec": {
      "name": "python3",
      "display_name": "Python 3"
    },
    "language_info": {
      "name": "python"
    }
  },
  "cells": [
    {
      "cell_type": "markdown",
      "metadata": {
        "id": "view-in-github",
        "colab_type": "text"
      },
      "source": [
        "<a href=\"https://colab.research.google.com/github/sonsu0404/colab/blob/main/Lession1.ipynb\" target=\"_parent\"><img src=\"https://colab.research.google.com/assets/colab-badge.svg\" alt=\"Open In Colab\"/></a>"
      ]
    },
    {
      "cell_type": "code",
      "source": [
        "print(\"내일은 즐거운 졸업여행\")\n",
        "print(\"준비물 잘 챙기자.\")\n",
        "print(\"다치지말고 재미있게 놀다 오자. :)\")"
      ],
      "metadata": {
        "id": "rgNm3aF-pGFe"
      },
      "execution_count": null,
      "outputs": []
    }
  ]
}