{
  "nbformat": 4,
  "nbformat_minor": 0,
  "metadata": {
    "colab": {
      "provenance": [],
      "authorship_tag": "ABX9TyOsZ6mSmFmQO45b0mcP4fXf",
      "include_colab_link": true
    },
    "kernelspec": {
      "name": "python3",
      "display_name": "Python 3"
    },
    "language_info": {
      "name": "python"
    }
  },
  "cells": [
    {
      "cell_type": "markdown",
      "metadata": {
        "id": "view-in-github",
        "colab_type": "text"
      },
      "source": [
        "<a href=\"https://colab.research.google.com/github/sonsu0404/colab/blob/main/Lession6.ipynb\" target=\"_parent\"><img src=\"https://colab.research.google.com/assets/colab-badge.svg\" alt=\"Open In Colab\"/></a>"
      ]
    },
    {
      "cell_type": "markdown",
      "source": [
        "6장 예제"
      ],
      "metadata": {
        "id": "cFVP4dU-IiPK"
      }
    },
    {
      "cell_type": "code",
      "execution_count": 2,
      "metadata": {
        "colab": {
          "base_uri": "https://localhost:8080/"
        },
        "id": "Er3PRWvLIcVw",
        "outputId": "6e092d69-e863-41c5-f5ff-371f78813a29"
      },
      "outputs": [
        {
          "output_type": "stream",
          "name": "stdout",
          "text": [
            "안산공고 컴퓨터과 최고\n",
            "하이\n",
            "안산공고 컴퓨터과 최고\n",
            "하이\n",
            "안산공고 컴퓨터과 최고\n",
            "하이\n"
          ]
        }
      ],
      "source": [
        "for i in range(3) :\n",
        "  print(\"안산공고 컴퓨터과 최고\")\n",
        "  print(\"하이\")"
      ]
    },
    {
      "cell_type": "code",
      "source": [
        "myList = [\"가위\", \"바위\", \"보\"]\n",
        "for i in myList : \n",
        "  print(i)"
      ],
      "metadata": {
        "colab": {
          "base_uri": "https://localhost:8080/"
        },
        "id": "CiybEMS9KXhp",
        "outputId": "1bcbdb86-b561-4a48-95e8-78e3c60e3621"
      },
      "execution_count": 3,
      "outputs": [
        {
          "output_type": "stream",
          "name": "stdout",
          "text": [
            "가위\n",
            "바위\n",
            "보\n"
          ]
        }
      ]
    },
    {
      "cell_type": "code",
      "source": [
        "myList = [\"가위\", 1, 29, \"안산\", \"공고\"]\n",
        "temp = input(\"입력 : \")\n",
        "if temp in myList :\n",
        "  print(temp, \"리스트 목록에 있습니다.\")"
      ],
      "metadata": {
        "colab": {
          "base_uri": "https://localhost:8080/"
        },
        "id": "ok6HfBxaK8nQ",
        "outputId": "2f82d6ce-aae6-4001-acda-3dddb85dbe28"
      },
      "execution_count": 4,
      "outputs": [
        {
          "output_type": "stream",
          "name": "stdout",
          "text": [
            "입력 : 안산\n",
            "안산 리스트 목록에 있습니다.\n"
          ]
        }
      ]
    },
    {
      "cell_type": "markdown",
      "source": [
        "팩토리얼"
      ],
      "metadata": {
        "id": "A8zV55__Not3"
      }
    },
    {
      "cell_type": "code",
      "source": [
        "fact = 1\n",
        "result = 0\n",
        "for i in range(1, 6, 1) :\n",
        "  fact = fact * i\n",
        "print(fact)"
      ],
      "metadata": {
        "colab": {
          "base_uri": "https://localhost:8080/"
        },
        "id": "-pn2d3S0L8XR",
        "outputId": "1525d8d6-fc7e-4d2f-a14a-9694413585bf"
      },
      "execution_count": 5,
      "outputs": [
        {
          "output_type": "stream",
          "name": "stdout",
          "text": [
            "120\n"
          ]
        }
      ]
    },
    {
      "cell_type": "code",
      "source": [
        "fact = 1\n",
        "friends_num = 5\n",
        "\n",
        "for i in range (1, friends_num + 1, 1):\n",
        "  fact = fact * i\n",
        "\n",
        "print(\"A, B, C, D, E 학생들을 순서대로 세우는 경우는 수 : \", fact)"
      ],
      "metadata": {
        "colab": {
          "base_uri": "https://localhost:8080/"
        },
        "id": "aGGAfOioOg_3",
        "outputId": "74ab9b22-553e-4dbe-9b14-1af56ae8b9c3"
      },
      "execution_count": 6,
      "outputs": [
        {
          "output_type": "stream",
          "name": "stdout",
          "text": [
            "A, B, C, D, E 학생들을 순서대로 세우는 경우는 수 :  120\n"
          ]
        }
      ]
    },
    {
      "cell_type": "code",
      "source": [
        "hap = 0\n",
        "\n",
        "for i in range (1, 11, 1):\n",
        "  hap = hap + i\n",
        "\n",
        "print (\"1에서 10까지의 합 :\", hap)"
      ],
      "metadata": {
        "colab": {
          "base_uri": "https://localhost:8080/"
        },
        "id": "_nvxvi-UPQQg",
        "outputId": "ba5b7004-597e-42e3-9fc3-f4f6c9ff8571"
      },
      "execution_count": 7,
      "outputs": [
        {
          "output_type": "stream",
          "name": "stdout",
          "text": [
            "1에서 10까지의 합 : 55\n"
          ]
        }
      ]
    },
    {
      "cell_type": "code",
      "source": [
        "i, hap = 0, 0\n",
        "\n",
        "for i in range(1001, 2001, 2) :\n",
        "    hap += i\n",
        "print(\"1000에서 2000까지의 홀수의 합 :\", hap)"
      ],
      "metadata": {
        "colab": {
          "base_uri": "https://localhost:8080/"
        },
        "id": "iRZIBgmMPwmp",
        "outputId": "eaba51e0-9c4a-4671-8ab6-6221d00f3b57"
      },
      "execution_count": 9,
      "outputs": [
        {
          "output_type": "stream",
          "name": "stdout",
          "text": [
            "1000에서 2000까지의 홀수의 합 : 750000\n"
          ]
        }
      ]
    },
    {
      "cell_type": "code",
      "source": [
        "for i in range (3) :\n",
        "    for k in range(2) :\n",
        "        print(\"난생처음은 쉽습니다. ^^ (i값:\", i, \", k값:\", k,\")\")"
      ],
      "metadata": {
        "colab": {
          "base_uri": "https://localhost:8080/"
        },
        "id": "gamkLS2XQA0V",
        "outputId": "c0e759f6-aa0d-422c-dfc7-f8ba73b4dd75"
      },
      "execution_count": 24,
      "outputs": [
        {
          "output_type": "stream",
          "name": "stdout",
          "text": [
            "난생처음은 쉽습니다. ^^ (i값: 0 , k값: 0 )\n",
            "난생처음은 쉽습니다. ^^ (i값: 0 , k값: 1 )\n",
            "난생처음은 쉽습니다. ^^ (i값: 1 , k값: 0 )\n",
            "난생처음은 쉽습니다. ^^ (i값: 1 , k값: 1 )\n",
            "난생처음은 쉽습니다. ^^ (i값: 2 , k값: 0 )\n",
            "난생처음은 쉽습니다. ^^ (i값: 2 , k값: 1 )\n"
          ]
        }
      ]
    },
    {
      "cell_type": "code",
      "source": [
        "i = 0\n",
        "j = 0\n",
        "\n",
        "for i in range (2, 10) :\n",
        "     for j in range (1, 10) : \n",
        "          print (i, \"X\", j, \"=\", i * j)\n",
        "     print(\"\")"
      ],
      "metadata": {
        "colab": {
          "base_uri": "https://localhost:8080/"
        },
        "id": "bh39XN0WUQeN",
        "outputId": "c4d9aab8-8a81-4614-95cd-9160396b805b"
      },
      "execution_count": 13,
      "outputs": [
        {
          "output_type": "stream",
          "name": "stdout",
          "text": [
            "2 X 1 = 2\n",
            "2 X 2 = 4\n",
            "2 X 3 = 6\n",
            "2 X 4 = 8\n",
            "2 X 5 = 10\n",
            "2 X 6 = 12\n",
            "2 X 7 = 14\n",
            "2 X 8 = 16\n",
            "2 X 9 = 18\n",
            "\n",
            "3 X 1 = 3\n",
            "3 X 2 = 6\n",
            "3 X 3 = 9\n",
            "3 X 4 = 12\n",
            "3 X 5 = 15\n",
            "3 X 6 = 18\n",
            "3 X 7 = 21\n",
            "3 X 8 = 24\n",
            "3 X 9 = 27\n",
            "\n",
            "4 X 1 = 4\n",
            "4 X 2 = 8\n",
            "4 X 3 = 12\n",
            "4 X 4 = 16\n",
            "4 X 5 = 20\n",
            "4 X 6 = 24\n",
            "4 X 7 = 28\n",
            "4 X 8 = 32\n",
            "4 X 9 = 36\n",
            "\n",
            "5 X 1 = 5\n",
            "5 X 2 = 10\n",
            "5 X 3 = 15\n",
            "5 X 4 = 20\n",
            "5 X 5 = 25\n",
            "5 X 6 = 30\n",
            "5 X 7 = 35\n",
            "5 X 8 = 40\n",
            "5 X 9 = 45\n",
            "\n",
            "6 X 1 = 6\n",
            "6 X 2 = 12\n",
            "6 X 3 = 18\n",
            "6 X 4 = 24\n",
            "6 X 5 = 30\n",
            "6 X 6 = 36\n",
            "6 X 7 = 42\n",
            "6 X 8 = 48\n",
            "6 X 9 = 54\n",
            "\n",
            "7 X 1 = 7\n",
            "7 X 2 = 14\n",
            "7 X 3 = 21\n",
            "7 X 4 = 28\n",
            "7 X 5 = 35\n",
            "7 X 6 = 42\n",
            "7 X 7 = 49\n",
            "7 X 8 = 56\n",
            "7 X 9 = 63\n",
            "\n",
            "8 X 1 = 8\n",
            "8 X 2 = 16\n",
            "8 X 3 = 24\n",
            "8 X 4 = 32\n",
            "8 X 5 = 40\n",
            "8 X 6 = 48\n",
            "8 X 7 = 56\n",
            "8 X 8 = 64\n",
            "8 X 9 = 72\n",
            "\n",
            "9 X 1 = 9\n",
            "9 X 2 = 18\n",
            "9 X 3 = 27\n",
            "9 X 4 = 36\n",
            "9 X 5 = 45\n",
            "9 X 6 = 54\n",
            "9 X 7 = 63\n",
            "9 X 8 = 72\n",
            "9 X 9 = 81\n",
            "\n"
          ]
        }
      ]
    },
    {
      "cell_type": "code",
      "source": [
        "for i in range (0, 3, 1) :\n",
        "     print (i, \": 난생처음 파이썬은 재미있습니다. ^^\")"
      ],
      "metadata": {
        "colab": {
          "base_uri": "https://localhost:8080/"
        },
        "id": "udkJVfNwV-Yj",
        "outputId": "325e3154-9a5b-4696-9287-7dde1984876f"
      },
      "execution_count": 14,
      "outputs": [
        {
          "output_type": "stream",
          "name": "stdout",
          "text": [
            "0 : 난생처음 파이썬은 재미있습니다. ^^\n",
            "1 : 난생처음 파이썬은 재미있습니다. ^^\n",
            "2 : 난생처음 파이썬은 재미있습니다. ^^\n"
          ]
        }
      ]
    },
    {
      "cell_type": "code",
      "source": [
        "i = 0\n",
        "while (i < 3) :\n",
        "  print ( i\" : 난생처음 파이썬은 재미있습니다. ^^ \")\n",
        "  i = i + 1"
      ],
      "metadata": {
        "id": "ANlGkyF-WZoT"
      },
      "execution_count": null,
      "outputs": []
    },
    {
      "cell_type": "code",
      "source": [
        "hap = 0 \n",
        "num1, num2 = 0, 0\n",
        "\n",
        "while True :\n",
        "   num1 = int(input(\"숫자1 ==> \"))\n",
        "   if num1 == 0 :\n",
        "     break\n",
        "   num2 = int(input(\"숫자2 ==> \"))\n",
        "\n",
        "   hap = num1 + num2\n",
        "   print(num1, \"+\", num2, \"=\", hap)"
      ],
      "metadata": {
        "colab": {
          "base_uri": "https://localhost:8080/"
        },
        "id": "N1yqx5p8XKVC",
        "outputId": "43da8135-3ff7-464e-bb70-8b6c58643f73"
      },
      "execution_count": 22,
      "outputs": [
        {
          "name": "stdout",
          "output_type": "stream",
          "text": [
            "숫자1 ==> 80\n",
            "숫자2 ==> 90\n",
            "80 + 90 = 170\n",
            "숫자1 ==> 0\n"
          ]
        }
      ]
    },
    {
      "cell_type": "code",
      "source": [
        "import random\n",
        "\n",
        "while True : \n",
        "  r1 = random.randint (1,6)\n",
        "  r2 = random.randint (1,6)\n",
        "  r3 = random.randint (1,6)\n",
        "  count * count = 1\n",
        "  if r1 == r2 == r3 :\n",
        "    break\n",
        "print(\"3개의 주사위는 모두 \", r1, \"입니다.\")\n",
        "print(\"같은 숫자가 나오기까지 \", count, \"번 던졌습니다.\")"
      ],
      "metadata": {
        "id": "cBHuZbIBXKaZ"
      },
      "execution_count": null,
      "outputs": []
    },
    {
      "cell_type": "code",
      "source": [
        "import random\n",
        "\n",
        "computer, user = 0,0\n",
        "\n",
        "for i in range (1,11) :\n",
        "    computer = random.randint (1, 5)\n",
        "    print(\"게임\", i, \"회:\", end='')\n",
        "    user = int(input(\"컴퓨터가 생각한 숫자는 ? \"))\n",
        "\n",
        "    if computer == user :\n",
        "       print(\"맞혔네요. 축하합니다!!\")\n",
        "       break\n",
        "    else :\n",
        "       print(\"아까워요.\", computer, \"였는데요,\" 다시 해보세요.)"
      ],
      "metadata": {
        "id": "cGSyUukaZGiT"
      },
      "execution_count": null,
      "outputs": []
    },
    {
      "cell_type": "code",
      "source": [],
      "metadata": {
        "id": "rXh0zFb3b8Pu"
      },
      "execution_count": null,
      "outputs": []
    }
  ]
}