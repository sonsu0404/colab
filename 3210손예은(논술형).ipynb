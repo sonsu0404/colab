{
  "nbformat": 4,
  "nbformat_minor": 0,
  "metadata": {
    "colab": {
      "name": "3210손예은(논술형).ipynb",
      "provenance": [],
      "authorship_tag": "ABX9TyPeQyAV21vGHs6LJny3L3ah",
      "include_colab_link": true
    },
    "kernelspec": {
      "name": "python3",
      "display_name": "Python 3"
    },
    "language_info": {
      "name": "python"
    }
  },
  "cells": [
    {
      "cell_type": "markdown",
      "metadata": {
        "id": "view-in-github",
        "colab_type": "text"
      },
      "source": [
        "<a href=\"https://colab.research.google.com/github/sonsu0404/colab/blob/main/3210%EC%86%90%EC%98%88%EC%9D%80(%EB%85%BC%EC%88%A0%ED%98%95).ipynb\" target=\"_parent\"><img src=\"https://colab.research.google.com/assets/colab-badge.svg\" alt=\"Open In Colab\"/></a>"
      ]
    },
    {
      "cell_type": "markdown",
      "source": [
        "컴퓨터과 3학년 2반 10번 손예은"
      ],
      "metadata": {
        "id": "uhFGy_ZME7_k"
      }
    },
    {
      "cell_type": "code",
      "execution_count": 7,
      "metadata": {
        "colab": {
          "base_uri": "https://localhost:8080/"
        },
        "id": "JZ5vv4oaEg5I",
        "outputId": "725bf773-4657-4564-c6bc-c782acc636fa"
      },
      "outputs": [
        {
          "output_type": "stream",
          "name": "stdout",
          "text": [
            "100 + 200 = 300\n",
            "100 - 200 = -100\n",
            "100 * 200 = 20000\n",
            "100 / 200 = 0.5\n",
            "100 % 200 = 100\n",
            "100 ** 200 = 10000000000000000000000000000000000000000000000000000000000000000000000000000000000000000000000000000000000000000000000000000000000000000000000000000000000000000000000000000000000000000000000000000000000000000000000000000000000000000000000000000000000000000000000000000000000000000000000000000000000000000000000000000000000000000000000000000000000000000000000000000000000000000000000000000000000000000\n",
            "100 // 200 = 0\n"
          ]
        }
      ],
      "source": [
        "num1 = 100\n",
        "num2 = 200\n",
        "result1 = num1+num2\n",
        "result2 = num1-num2\n",
        "result3 = num1*num2 \n",
        "result4 = num1/num2\n",
        "result5 = num1%num2\n",
        "result6 = num1**num2\n",
        "result7 = num1//num2\n",
        "print(num1, \"+\", num2, \"=\", result1)\n",
        "print(num1, \"-\", num2, \"=\", result2)\n",
        "print(num1, \"*\", num2, \"=\", result3)\n",
        "print(num1, \"/\", num2, \"=\", result4)\n",
        "print(num1, \"%\", num2, \"=\", result5)\n",
        "print(num1, \"**\", num2, \"=\", result6)\n",
        "print(num1, \"//\", num2, \"=\", result7)"
      ]
    }
  ]
}